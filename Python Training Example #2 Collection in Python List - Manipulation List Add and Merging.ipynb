{
 "cells": [
  {
   "cell_type": "markdown",
   "metadata": {},
   "source": [
    "# Python Training Example #2 Collection in Python List - Manipulation List Add and Merging"
   ]
  },
  {
   "cell_type": "code",
   "execution_count": 15,
   "metadata": {},
   "outputs": [],
   "source": [
    "# Create a List\n",
    "land_vehicle = ['Car', 'Motorcycle', 'Bycycle', 'Bus', 'Truck', 'Train']\n",
    "water_vehicle = ['Boat', 'Ferry', 'Ship', 'Submarine', 'Yacht', 'Sail boat']\n",
    "people_use = ['Car', 'Car', 'Motorcycle', 'Bycycle', 'Bycycle', 'Motocyle', 'Car', 'Motorcycle', 'Bycycle', 'Car', 'Motorcycle', 'Car', 'Motorcycle', 'Bycycle']"
   ]
  },
  {
   "cell_type": "markdown",
   "metadata": {},
   "source": [
    "## Merging list"
   ]
  },
  {
   "cell_type": "code",
   "execution_count": 10,
   "metadata": {},
   "outputs": [
    {
     "name": "stdout",
     "output_type": "stream",
     "text": [
      "['Car', 'Motorcycle', 'Bycycle', 'Bus', 'Truck', 'Train', 'Boat', 'Ferry', 'Ship', 'Submarine', 'Yacht', 'Sail boat']\n"
     ]
    }
   ],
   "source": [
    "# Merging list\n",
    "vehicle = land_vehicle + water_vehicle\n",
    "print(vehicle)"
   ]
  },
  {
   "cell_type": "code",
   "execution_count": 11,
   "metadata": {},
   "outputs": [
    {
     "name": "stdout",
     "output_type": "stream",
     "text": [
      "['Car', 'Motorcycle', 'Bycycle', 'Bus', 'Truck', 'Train', 'Boat', 'Ferry', 'Ship', 'Submarine', 'Yacht', 'Sail boat']\n"
     ]
    }
   ],
   "source": [
    "# use .extend\n",
    "land_vehicle.extend(water_vehicle)\n",
    "print(land_vehicle)"
   ]
  },
  {
   "cell_type": "markdown",
   "metadata": {},
   "source": [
    "## .copy()"
   ]
  },
  {
   "cell_type": "code",
   "execution_count": 12,
   "metadata": {},
   "outputs": [
    {
     "name": "stdout",
     "output_type": "stream",
     "text": [
      "['Car', 'Motorcycle', 'Bycycle', 'Bus', 'Truck', 'Train', 'Boat', 'Ferry', 'Ship', 'Submarine', 'Yacht', 'Sail boat']\n"
     ]
    }
   ],
   "source": [
    "# Copy list\n",
    "land_vehicle_copy = land_vehicle.copy()\n",
    "print(land_vehicle_copy)"
   ]
  },
  {
   "cell_type": "markdown",
   "metadata": {},
   "source": [
    "## .append()"
   ]
  },
  {
   "cell_type": "code",
   "execution_count": 13,
   "metadata": {},
   "outputs": [
    {
     "name": "stdout",
     "output_type": "stream",
     "text": [
      "['Boat', 'Ferry', 'Ship', 'Submarine', 'Yacht', 'Sail boat', 'Cruiser']\n"
     ]
    }
   ],
   "source": [
    "# append list\n",
    "water_vehicle.append('Cruiser')\n",
    "print(water_vehicle)"
   ]
  },
  {
   "cell_type": "markdown",
   "metadata": {},
   "source": [
    "# .insert()"
   ]
  },
  {
   "cell_type": "code",
   "execution_count": 19,
   "metadata": {},
   "outputs": [
    {
     "name": "stdout",
     "output_type": "stream",
     "text": [
      "['Boat', 'Row Boat', 'Ferry', 'Ship', 'Submarine', 'Yacht', 'Sail boat']\n"
     ]
    }
   ],
   "source": [
    "# insert list from index\n",
    "water_vehicle.insert(1, 'Row Boat')\n",
    "print(water_vehicle)"
   ]
  }
 ],
 "metadata": {
  "kernelspec": {
   "display_name": "Python 3",
   "language": "python",
   "name": "python3"
  },
  "language_info": {
   "codemirror_mode": {
    "name": "ipython",
    "version": 3
   },
   "file_extension": ".py",
   "mimetype": "text/x-python",
   "name": "python",
   "nbconvert_exporter": "python",
   "pygments_lexer": "ipython3",
   "version": "3.8.5"
  }
 },
 "nbformat": 4,
 "nbformat_minor": 4
}
